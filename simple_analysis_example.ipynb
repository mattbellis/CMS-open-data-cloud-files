{
 "cells": [
  {
   "cell_type": "code",
   "execution_count": null,
   "id": "25e3b65f-0eee-4865-b511-439883fa6e30",
   "metadata": {},
   "outputs": [],
   "source": [
    "import awkward as ak\n",
    "import uproot \n",
    "\n",
    "import numpy as np"
   ]
  },
  {
   "cell_type": "markdown",
   "id": "4605031f-8de6-4772-9381-b96d365d3496",
   "metadata": {},
   "source": [
    "**Ttbar semilep**\n",
    "\n",
    "https://opendata.cern.ch/record/67995\n",
    "\n",
    "List of files\n",
    "\n",
    "https://opendata.cern.ch/record/67995/file_index/CMS_mc_RunIISummer20UL16NanoAODv9_TTToSemiLeptonic_TuneCP5CR1_13TeV-powheg-pythia8_NANOAODSIM_106X_mcRun2_asymptotic_v17-v1_2530000_file_index.txt\n",
    "\n",
    "\n",
    "**Smaller files**\n",
    "\n",
    "root://eospublic.cern.ch//eos/opendata/cms/mc/RunIISummer20UL16NanoAODv9/TTToHcToWAToMuMu_MHc-70_MA-65_MultiLepFilter_TuneCP5_13TeV-madgraph-pythia8/NANOAODSIM/106X_mcRun2_asymptotic_v17-v2/40000/BBEA4260-368D-1F48-9F82-BA43F906DCE1.root"
   ]
  },
  {
   "cell_type": "code",
   "execution_count": null,
   "id": "e7f302b3-239d-4f33-8daf-3ce213f7f8e6",
   "metadata": {},
   "outputs": [],
   "source": [
    "infilename = 'root://eospublic.cern.ch//eos/opendata/cms/mc/RunIISummer20UL16NanoAODv9/TTToHcToWAToMuMu_MHc-70_MA-65_MultiLepFilter_TuneCP5_13TeV-madgraph-pythia8/NANOAODSIM/106X_mcRun2_asymptotic_v17-v2/40000/BBEA4260-368D-1F48-9F82-BA43F906DCE1.root'\n",
    "\n",
    "f = uproot.open(infilename)"
   ]
  },
  {
   "cell_type": "code",
   "execution_count": null,
   "id": "418ff79d-25f3-4e37-aa74-a8a250f0a135",
   "metadata": {},
   "outputs": [],
   "source": [
    "f.keys()"
   ]
  },
  {
   "cell_type": "code",
   "execution_count": null,
   "id": "68ec5ce8-5ebb-4fcc-80ef-25ec4aeb972b",
   "metadata": {},
   "outputs": [],
   "source": [
    "events = f['Events']"
   ]
  },
  {
   "cell_type": "code",
   "execution_count": null,
   "id": "af301e52-5076-4d6b-847a-b4cb20e73af3",
   "metadata": {},
   "outputs": [],
   "source": [
    "events.keys()"
   ]
  },
  {
   "cell_type": "code",
   "execution_count": null,
   "id": "637cae86-21cb-46a5-b35c-69880ad764b5",
   "metadata": {},
   "outputs": [],
   "source": [
    "x = events['Jet_pt'].array()\n",
    "\n"
   ]
  },
  {
   "cell_type": "code",
   "execution_count": null,
   "id": "2d73332c-7aa6-4ab6-b47b-b6f8e2f6798a",
   "metadata": {},
   "outputs": [],
   "source": [
    "x"
   ]
  },
  {
   "cell_type": "code",
   "execution_count": null,
   "id": "a6142c2f-6f62-4b3e-a930-aca29c9791e6",
   "metadata": {},
   "outputs": [],
   "source": [
    "x = events['Jet_pt'].array()\n",
    "\n",
    "x = ak.flatten(x)\n",
    "\n",
    "print(x)\n",
    "\n",
    "vals = np.histogram(x, bins=100, range=(0,500))\n",
    "\n",
    "#vals = vals.to_numpy()"
   ]
  },
  {
   "cell_type": "code",
   "execution_count": null,
   "id": "c3f3b3dc-0d1d-4fbc-9bc6-1949322754a7",
   "metadata": {},
   "outputs": [],
   "source": [
    "print(len(vals))\n",
    "print(type(vals))\n",
    "print(vals[0])\n",
    "print(vals[1])"
   ]
  },
  {
   "cell_type": "code",
   "execution_count": null,
   "id": "3b0bd4fe-e186-457d-a00a-69f09dd10bab",
   "metadata": {},
   "outputs": [],
   "source": [
    "#import matplotlib.pylab as plt\n",
    "#plt.hist(x, bins=100, range=(0,500));"
   ]
  },
  {
   "cell_type": "code",
   "execution_count": null,
   "id": "2e8fda65-9e6a-42ef-8160-bb50293af14d",
   "metadata": {},
   "outputs": [],
   "source": [
    "tag = '0001'\n",
    "outfilename = f'test_{tag}.txt'\n",
    "\n",
    "outfile = open(outfilename,'w')\n",
    "output = \"\"\n",
    "for v in vals[0]:\n",
    "    output += f\"{v}\\n\"\n",
    "for v in vals[1]:\n",
    "    output += f\"{v}\\n\"\n",
    "\n",
    "outfile.write(output)\n",
    "\n",
    "outfile.close()"
   ]
  },
  {
   "cell_type": "code",
   "execution_count": null,
   "id": "aa0dd7e4-2102-4c96-8269-392afc4fc9bd",
   "metadata": {},
   "outputs": [],
   "source": [
    "#type(vals)"
   ]
  },
  {
   "cell_type": "markdown",
   "id": "478dc77e-5b0e-4f62-86f9-dbf12e0e94b2",
   "metadata": {},
   "source": [
    "Ideally, we turn this into a script/function that takes 2 arguments:\n",
    "\n",
    "* The filename to process (e.g. `root://.....`)\n",
    "* The tag to put on the output filename (e.g. `0001`)"
   ]
  },
  {
   "cell_type": "code",
   "execution_count": null,
   "id": "69856189-4960-4f80-ac16-94735b56c5f7",
   "metadata": {},
   "outputs": [],
   "source": []
  }
 ],
 "metadata": {
  "kernelspec": {
   "display_name": "Python 3 (ipykernel)",
   "language": "python",
   "name": "python3"
  },
  "language_info": {
   "codemirror_mode": {
    "name": "ipython",
    "version": 3
   },
   "file_extension": ".py",
   "mimetype": "text/x-python",
   "name": "python",
   "nbconvert_exporter": "python",
   "pygments_lexer": "ipython3",
   "version": "3.11.7"
  }
 },
 "nbformat": 4,
 "nbformat_minor": 5
}
